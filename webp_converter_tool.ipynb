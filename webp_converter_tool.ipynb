{
 "cells": [
  {
   "cell_type": "code",
   "execution_count": null,
   "id": "7b9df0b9-12bc-417e-bd19-10e9776d4e62",
   "metadata": {},
   "outputs": [],
   "source": [
    "!pip install webptools"
   ]
  },
  {
   "cell_type": "code",
   "execution_count": null,
   "id": "92c1a277-9d3e-41d1-a2ce-ffee2240cf2d",
   "metadata": {},
   "outputs": [],
   "source": [
    "from webptools import dwebp\n",
    "\n",
    "dwebp\n"
   ]
  },
  {
   "cell_type": "markdown",
   "id": "73d585b4-dc47-4a58-b1fb-5f0ab564180c",
   "metadata": {},
   "source": [
    "# WORKING EXAMPLE - entire directory\n",
    "`.webp` to `.png`"
   ]
  },
  {
   "cell_type": "code",
   "execution_count": 3,
   "id": "02b3d6e0-880f-43ab-a060-8ff1154fbf25",
   "metadata": {},
   "outputs": [],
   "source": [
    "# import required module\n",
    "import os\n",
    "\n",
    "\n",
    "def webp_to_png_in_directory(directory):\n",
    "\n",
    "    counter = 1\n",
    "    # assign directory\n",
    "\n",
    "    # iterate over files in\n",
    "    # that directory\n",
    "    for filename in os.listdir(directory):\n",
    "        dir_path = os.path.dirname(os.path.realpath(directory))\n",
    "\n",
    "        print(\"Directory path: \", dir_path)\n",
    "        \n",
    "        \n",
    "        \n",
    "        \n",
    "        f = os.path.join(directory, filename)\n",
    "        # checking if it is a file\n",
    "        if os.path.isfile(f):\n",
    "            print(\"File Name:\")\n",
    "            print(f)\n",
    "            print(\"File Type:\")\n",
    "            filetype = filename.split(\".\")[-1]\n",
    "            print(filetype)\n",
    "            print(\"\\n\")\n",
    "            \n",
    "            # IS IT A WEBP???\n",
    "            if(filetype == \"webp\"):\n",
    "                print(\"~\"*100)\n",
    "                \n",
    "                #CONVERT\n",
    "                output_name = \"webp_to_png_\"+ str(counter) +\".png\"\n",
    "                dwebp(input_image= filename, output_image=  output_name,\n",
    "                option=\"-o\", logging=\"-v\")\n",
    "                \n",
    "                counter = counter + 1\n",
    "    print(\"=\"*100)\n",
    "    print(\"Number of webp converted: \", counter-1)"
   ]
  },
  {
   "cell_type": "markdown",
   "id": "e92f4e9c-2764-4624-b6da-dfb3edf39453",
   "metadata": {
    "tags": []
   },
   "source": [
    "# FINAL CALL"
   ]
  },
  {
   "cell_type": "code",
   "execution_count": null,
   "id": "b040423f-ab38-484f-aea6-dec16c956d66",
   "metadata": {},
   "outputs": [],
   "source": [
    "cwd = os.getcwd()\n",
    "webp_to_png_in_directory(cwd)"
   ]
  },
  {
   "cell_type": "code",
   "execution_count": null,
   "id": "99d4bdda-5fbd-49a4-ad32-6640e7f772c7",
   "metadata": {},
   "outputs": [],
   "source": []
  }
 ],
 "metadata": {
  "kernelspec": {
   "display_name": "Python 3 (ipykernel)",
   "language": "python",
   "name": "python3"
  },
  "language_info": {
   "codemirror_mode": {
    "name": "ipython",
    "version": 3
   },
   "file_extension": ".py",
   "mimetype": "text/x-python",
   "name": "python",
   "nbconvert_exporter": "python",
   "pygments_lexer": "ipython3",
   "version": "3.9.12"
  }
 },
 "nbformat": 4,
 "nbformat_minor": 5
}
